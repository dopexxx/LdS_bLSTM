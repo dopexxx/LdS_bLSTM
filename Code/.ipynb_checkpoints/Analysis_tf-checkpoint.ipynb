{
 "cells": [
  {
   "cell_type": "code",
   "execution_count": 1,
   "metadata": {},
   "outputs": [
    {
     "name": "stderr",
     "output_type": "stream",
     "text": [
      "/Users/jannisborn/anaconda3/envs/tf/lib/python3.6/site-packages/h5py/__init__.py:36: FutureWarning: Conversion of the second argument of issubdtype from `float` to `np.floating` is deprecated. In future, it will be treated as `np.float64 == np.dtype(float).type`.\n",
      "  from ._conv import register_converters as _register_converters\n"
     ]
    }
   ],
   "source": [
    "import sys,os\n",
    "import numpy as np\n",
    "import tensorflow as tf\n",
    "#import matplotlib\n",
    "#matplotlib.use('TkAgg')\n",
    "#%matplotlib qt\n",
    "\n",
    "import matplotlib.pyplot as plt\n",
    "import time\n",
    "#%matplotlib inline\n",
    "from scipy.signal import savgol_filter\n"
   ]
  },
  {
   "cell_type": "markdown",
   "metadata": {},
   "source": [
    "# Measure distances of embeddings "
   ]
  },
  {
   "cell_type": "code",
   "execution_count": 2,
   "metadata": {},
   "outputs": [],
   "source": [
    "import tensorflow as tf\n",
    "def retrieve_feature_vector(mode, epochs, path, model_name, task):\n",
    "\t\t\"\"\"\n",
    "\t\tHelper method that retrieves the input/output embedding vectors of the reading or writing model. Returns to plot_pca or plot_tsne method.\n",
    "\n",
    "\t\tParameters:\n",
    "\t\t-------------\n",
    "\t\tMODE \t\t\t{string} either 'input' or 'output' describing which embedding vector should be retrieved\n",
    "\n",
    "\t\tReturnsL\n",
    "\t\t-------------\n",
    "\t\tWEIGHT_VECTOR \t{np.array} of shape dict_size x embedding_dimension\n",
    "\t\t\"\"\"\n",
    "\n",
    "\t\t\n",
    "\t\twith tf.Session() as sess:\n",
    "\n",
    "\t\t\t# Restore model\n",
    "\t\t\tsaver = tf.train.import_meta_graph(path+'/my_test_model-'+str(epochs)+'.meta')\n",
    "\t\t\tsaver.restore(sess,path+'/my_test_model-'+str(epochs))\n",
    "\t\t\tgraph = tf.get_default_graph()\n",
    "\n",
    "\n",
    "\t\t\t# Define variable to restore\n",
    "\t\t\tif task == 'write' and mode == 'input':\n",
    "\t\t\t\tplotted = 'phonetic'\n",
    "\t\t\t\tenc = 'enc'\n",
    "\t\t\telif task == 'write' and mode == 'output':\n",
    "\t\t\t\tplotted = 'orthographic'\n",
    "\t\t\t\tenc = 'dec'\n",
    "\t\t\telif task == 'read' and mode == 'input':\n",
    "\t\t\t\tplotted = 'orthographic'\n",
    "\t\t\t\tenc = 'enc'\n",
    "\t\t\telif task == 'read' and mode == 'output':\n",
    "\t\t\t\tplotted = 'phonetic'\n",
    "\t\t\t\tenc = 'dec'\n",
    "\n",
    "\t\t\tvariable_path = model_name + '/' + enc + 'oding_' + task + '/'+enc+'_embedding:0'\n",
    "\n",
    "\n",
    "\t\t\t# Load data and perform PCA\n",
    "\t\t\tweight_vectors = sess.run(graph.get_tensor_by_name(variable_path))\n",
    "\n",
    "\t\treturn weight_vectors"
   ]
  },
  {
   "cell_type": "code",
   "execution_count": 64,
   "metadata": {},
   "outputs": [
    {
     "name": "stdout",
     "output_type": "stream",
     "text": [
      "INFO:tensorflow:Restoring parameters from /Users/jannisborn/Desktop/LDS_Data/TrainedModels/CELEX/lds_run_2/my_test_model-125\n",
      "INFO:tensorflow:Restoring parameters from /Users/jannisborn/Desktop/LDS_Data/TrainedModels/CELEX/normal_run_1/my_test_model-125\n"
     ]
    }
   ],
   "source": [
    "# Load embeddings\n",
    "epochs = 125\n",
    "path = '/Users/jannisborn/Desktop/LDS_Data/TrainedModels/CELEX/lds_run_2'\n",
    "task = 'write'\n",
    "mode = 'output'\n",
    "model_name = 'writing'\n",
    "lds_feat = retrieve_feature_vector(mode, epochs, path, model_name, task)\n",
    "\n",
    "path = '/Users/jannisborn/Desktop/LDS_Data/TrainedModels/CELEX/normal_run_1'\n",
    "epochs = 125\n",
    "reg_feat = retrieve_feature_vector(mode, epochs, path, model_name, task)\n",
    "\n",
    "# Load dict\n",
    "root_local = os.path.expanduser(\"~\")+'/Desktop/LDS_Data/'\n",
    "path = root_local + 'data/'\n",
    "dataset = 'CELEX'\n",
    "data = np.load(path + dataset + '.npz')\n",
    "input_dict = {key:data['phon_dict'].item().get(key) for key in data['phon_dict'].item()} if task == 'write' else {key:data['word_dict'].item().get(key) for key in data['word_dict'].item()}\n",
    "output_dict = {key:data['word_dict'].item().get(key) for key in data['word_dict'].item()} if task == 'write' else  {key:data['phon_dict'].item().get(key) for key in data['phon_dict'].item()}\n",
    "input_dict_rev = dict(zip(input_dict.values(), input_dict.keys()))\n",
    "output_dict_rev = dict(zip(output_dict.values(), output_dict.keys()))"
   ]
  },
  {
   "cell_type": "code",
   "execution_count": 12,
   "metadata": {},
   "outputs": [
    {
     "name": "stdout",
     "output_type": "stream",
     "text": [
      "{1: 'ö', 2: 'b', 3: 'p', 4: 'w', 5: 's', 6: 'ä', 7: 'v', 8: 'i', 9: ' ', 10: 'ü', 11: 'r', 12: 'k', 13: 'd', 14: 'z', 15: 'f', 16: 'x', 17: 'a', 18: 'l', 19: 'h', 20: 'y', 21: 'q', 22: 'c', 23: 'e', 24: 'm', 25: 'g', 26: 't', 27: 'o', 28: 'n', 29: 'u', 30: 'j', 31: '<GO>', 32: '<PAD>'}\n",
      "(33, 96)\n"
     ]
    }
   ],
   "source": [
    "print(output_dict_rev)\n",
    "print(lds_feat.shape)"
   ]
  },
  {
   "cell_type": "code",
   "execution_count": 52,
   "metadata": {},
   "outputs": [
    {
     "name": "stdout",
     "output_type": "stream",
     "text": [
      "LdS dist of <e> and <ä> is  8.897102\n",
      "Regular dist of <e> and <ä> is  8.477949\n",
      "LdS dist of <d> and <t> is  8.705797\n",
      "Regular dist of <d> and <t> is  8.015378\n",
      "LdS dist of <v> and <w> is  10.992191\n",
      "Regular dist of <d> and <t> is  10.087351\n"
     ]
    }
   ],
   "source": [
    "# ä has index 6 and e index 23, lets measure distance\n",
    "print(\"LdS dist of <e> and <ä> is \", np.linalg.norm(lds_feat[6] - lds_feat[23]))\n",
    "print(\"Regular dist of <e> and <ä> is \", np.linalg.norm(reg_feat[6] - reg_feat[23]))\n",
    "# d has index 13 and t index 26, lets measure distance\n",
    "print(\"LdS dist of <d> and <t> is \", np.linalg.norm(lds_feat[13] - lds_feat[26]))\n",
    "print(\"Regular dist of <d> and <t> is \", np.linalg.norm(reg_feat[13] - reg_feat[26]))\n",
    "\n",
    "# v has index 7 and w index 4, lets measure distance\n",
    "print(\"LdS dist of <v> and <w> is \", np.linalg.norm(lds_feat[7] - lds_feat[4]))\n",
    "print(\"Regular dist of <d> and <t> is \", np.linalg.norm(reg_feat[7] - reg_feat[4]))"
   ]
  },
  {
   "cell_type": "code",
   "execution_count": 69,
   "metadata": {},
   "outputs": [],
   "source": [
    "# Try to work with the PCA/t-SNE values:\n",
    "p = '/Users/jannisborn/Desktop/LDS_Data/TrainedModels/CELEX/lds_run_2/evaluation/PCA_writing_module_orthographic_120embedding_vectors.npz'\n",
    "lds_pca = np.load(p)\n",
    "p = '/Users/jannisborn/Desktop/LDS_Data/TrainedModels/CELEX/lds_run_2/evaluation/tSNE_writing_module_orthographic_embedding-vec_epoch120_perp=10_step=5000_lr=10_ang=0.5_init=random_pca=None.npy'\n",
    "lds_tsne = np.load(p)\n",
    "p = '/Users/jannisborn/Desktop/LDS_Data/TrainedModels/CELEX/normal_run_1/evaluation/PCA\\ writing\\ module\\ orthographic_125embedding\\ vectors.npz'\n",
    "reg_pca = np.load(p.replace('\\\\', ''))\n",
    "p = '/Users/jannisborn/Desktop/LDS_Data/TrainedModels/CELEX/normal_run_1/evaluation/tSNE_writing_module_orthographic_embedding-vec_epoch125_perp=10_step=5000_lr=10_ang=0.5_init=random_pca=None.npy'\n",
    "reg_tsne = np.load(p)\n",
    "\n"
   ]
  },
  {
   "cell_type": "code",
   "execution_count": 53,
   "metadata": {},
   "outputs": [
    {
     "name": "stdout",
     "output_type": "stream",
     "text": [
      "LdS dist of <e> and <ä> is  0.9554586\n",
      "Regular dist of <e> and <ä> is  1.3152292\n",
      "LdS dist of <d> and <t> is  0.1609905\n",
      "Regular dist of <d> and <t> is  0.8957248\n",
      "LdS dist of <v> and <w> is  0.7808976\n",
      "Regular dist of <d> and <t> is  0.76860267\n"
     ]
    }
   ],
   "source": [
    "# PCA Results\n",
    "# ä has index 6 and e index 23, lets measure distance\n",
    "print(\"LdS dist of <e> and <ä> is \", np.linalg.norm(lds_pca['pcs'][6] - lds_pca['pcs'][23]))\n",
    "print(\"Regular dist of <e> and <ä> is \", np.linalg.norm(reg_pca['pcs'][6] - reg_pca['pcs'][23]))\n",
    "# d has index 13 and t index 26, lets measure distance\n",
    "print(\"LdS dist of <d> and <t> is \", np.linalg.norm(lds_pca['pcs'][13] - lds_pca['pcs'][26]))\n",
    "print(\"Regular dist of <d> and <t> is \", np.linalg.norm(reg_pca['pcs'][13] - reg_pca['pcs'][26]))\n",
    "\n",
    "# v has index 7 and w index 4, lets measure distance\n",
    "print(\"LdS dist of <v> and <w> is \", np.linalg.norm(lds_pca['pcs'][7] - lds_pca['pcs'][4]))\n",
    "print(\"Regular dist of <d> and <t> is \", np.linalg.norm(reg_pca['pcs'][7] - reg_pca['pcs'][4]))"
   ]
  },
  {
   "cell_type": "code",
   "execution_count": 54,
   "metadata": {},
   "outputs": [
    {
     "name": "stdout",
     "output_type": "stream",
     "text": [
      "LdS dist of <e> and <ä> is  1.6692604\n",
      "Regular dist of <e> and <ä> is  1.2646354\n",
      "LdS dist of <d> and <t> is  0.9848242\n",
      "Regular dist of <d> and <t> is  0.8077428\n",
      "LdS dist of <v> and <w> is  1.3629563\n",
      "Regular dist of <d> and <t> is  3.5519953\n"
     ]
    }
   ],
   "source": [
    "# tSNE results\n",
    "# ä has index 6 and e index 23, lets measure distance\n",
    "print(\"LdS dist of <e> and <ä> is \", np.linalg.norm(lds_tsne[6] - lds_tsne[23]))\n",
    "print(\"Regular dist of <e> and <ä> is \", np.linalg.norm(reg_tsne[6] - reg_tsne[23]))\n",
    "# d has index 13 and t index 26, lets measure distance\n",
    "print(\"LdS dist of <d> and <t> is \", np.linalg.norm(lds_tsne[13] - lds_tsne[26]))\n",
    "print(\"Regular dist of <d> and <t> is \", np.linalg.norm(reg_tsne[13] - reg_tsne[26]))\n",
    "\n",
    "# v has index 7 and w index 4, lets measure distance\n",
    "print(\"LdS dist of <v> and <w> is \", np.linalg.norm(lds_tsne[7] - lds_tsne[4]))\n",
    "print(\"Regular dist of <d> and <t> is \", np.linalg.norm(reg_tsne[7] - reg_tsne[4]))"
   ]
  },
  {
   "cell_type": "code",
   "execution_count": null,
   "metadata": {},
   "outputs": [],
   "source": []
  },
  {
   "cell_type": "code",
   "execution_count": 88,
   "metadata": {},
   "outputs": [
    {
     "data": {
      "image/png": "[encoded data removed]",
      "text/plain": [
       "<Figure size 432x288 with 2 Axes>"
      ]
     },
     "metadata": {},
     "output_type": "display_data"
    }
   ],
   "source": [
    "\n",
    "fig, (ax1, ax2) = plt.subplots(nrows=1, ncols=2)\n",
    "fig.suptitle(\"CELEX - Orthographic embeddings of writing module \", fontsize=15, weight='bold' )\n",
    "\n",
    "ax1.set_xlabel('Principal Component 1', fontsize = 15)\n",
    "ax1.set_ylabel('Principal Component 2', fontsize = 15)\n",
    "ax1.set_title(\"LdS agent\", fontsize = 20)\n",
    "ax1.scatter(lds_pca['pcs'][:,0], lds_pca['pcs'][:,1],s=2)\n",
    "ax1.spines['right'].set_visible(False)\n",
    "ax1.spines['top'].set_visible(False)\n",
    "\n",
    "for k in range(1,len(lds_pca['pcs'])):\n",
    "    if k == 6 or k == 23:\n",
    "        ax1.annotate(output_dict_rev[k],(lds_pca['pcs'][k,0], lds_pca['pcs'][k,1]), weight='bold', color='red')  \n",
    "    elif  k ==13 or k == 26:\n",
    "        ax1.annotate(output_dict_rev[k],(lds_pca['pcs'][k,0], lds_pca['pcs'][k,1]), weight='bold', color='green')  \n",
    "    else:\n",
    "        ax1.annotate(output_dict_rev[k],(lds_pca['pcs'][k,0], lds_pca['pcs'][k,1]))  \n",
    "\n",
    "ax2.set_xlabel('Principal Component 1', fontsize = 15)\n",
    "ax2.set_title(\"Regular agent\", fontsize = 20)\n",
    "ax2.scatter(reg_pca['pcs'][:,0], reg_pca['pcs'][:,1],s=2)\n",
    "ax2.spines['right'].set_visible(False)\n",
    "ax2.spines['top'].set_visible(False)\n",
    "\n",
    "for k in range(1,len(reg_pca['pcs'])):\n",
    "    if k == 6 or k == 23:\n",
    "        ax2.annotate(output_dict_rev[k],(reg_pca['pcs'][k,0], reg_pca['pcs'][k,1]),weight='bold', color='red')  \n",
    "    elif k ==13 or k == 26:\n",
    "        ax2.annotate(output_dict_rev[k],(reg_pca['pcs'][k,0], reg_pca['pcs'][k,1]), weight='bold', color='green')  \n",
    "    else:\n",
    "        ax2.annotate(output_dict_rev[k],(reg_pca['pcs'][k,0], reg_pca['pcs'][k,1]))  \n",
    "fig.savefig(\"foo.pdf\", bbox_inches='tight')"
   ]
  },
  {
   "cell_type": "markdown",
   "metadata": {},
   "source": [
    "# PHONETIC EMBEDDINGS"
   ]
  },
  {
   "cell_type": "code",
   "execution_count": 55,
   "metadata": {},
   "outputs": [
    {
     "name": "stdout",
     "output_type": "stream",
     "text": [
      "INFO:tensorflow:Restoring parameters from /Users/jannisborn/Desktop/LDS_Data/TrainedModels/CELEX/lds_run_2/my_test_model-125\n",
      "INFO:tensorflow:Restoring parameters from /Users/jannisborn/Desktop/LDS_Data/TrainedModels/CELEX/normal_run_1/my_test_model-125\n"
     ]
    }
   ],
   "source": [
    "# Load embeddings\n",
    "epochs = 125\n",
    "path = '/Users/jannisborn/Desktop/LDS_Data/TrainedModels/CELEX/lds_run_2'\n",
    "task = 'write'\n",
    "mode = 'input'\n",
    "model_name = 'writing'\n",
    "lds_feat = retrieve_feature_vector(mode, epochs, path, model_name, task)\n",
    "\n",
    "path = '/Users/jannisborn/Desktop/LDS_Data/TrainedModels/CELEX/normal_run_1'\n",
    "epochs = 125\n",
    "reg_feat = retrieve_feature_vector(mode, epochs, path, model_name, task)\n",
    "\n",
    "# Load dict\n",
    "root_local = os.path.expanduser(\"~\")+'/Desktop/LDS_Data/'\n",
    "path = root_local + 'data/'\n",
    "dataset = 'CELEX'\n",
    "data = np.load(path + dataset + '.npz')\n",
    "input_dict = {key:data['phon_dict'].item().get(key) for key in data['phon_dict'].item()} if task == 'write' else {key:data['word_dict'].item().get(key) for key in data['word_dict'].item()}\n",
    "output_dict = {key:data['word_dict'].item().get(key) for key in data['word_dict'].item()} if task == 'write' else  {key:data['phon_dict'].item().get(key) for key in data['phon_dict'].item()}\n",
    "input_dict_rev = dict(zip(input_dict.values(), input_dict.keys()))\n",
    "output_dict_rev = dict(zip(output_dict.values(), output_dict.keys()))"
   ]
  },
  {
   "cell_type": "code",
   "execution_count": 57,
   "metadata": {},
   "outputs": [
    {
     "name": "stdout",
     "output_type": "stream",
     "text": [
      "{1: 'œ', 2: 'ɪ', 3: 'ɛ', 4: 'ɐ', 5: 'p', 6: 'b', 7: 'w', 8: 's', 9: 'v', 10: 'i', 11: 'ə', 12: ' ', 13: 'r', 14: 'k', 15: 'ç', 16: 'ʒ', 17: 'd', 18: 'ɜ', 19: 'z', 20: 'ɡ', 21: 'f', 22: 'ɾ', 23: 'x', 24: 'a', 25: 'l', 26: 'ˌ', 27: 'h', 28: 'ɔ', 29: 'ʃ', 30: 'y', 31: 'ŋ', 32: 'ʊ', 33: 'e', 34: 'ː', 35: 'm', 36: 'ɑ', 37: 'ˈ', 38: 't', 39: 'o', 40: 'n', 41: 'u', 42: 'j', 43: 'ø', 44: 'ʏ', 45: '<GO>', 46: '<PAD>'}\n",
      "(47, 96)\n"
     ]
    }
   ],
   "source": [
    "print(input_dict_rev)\n",
    "print(lds_feat.shape)"
   ]
  },
  {
   "cell_type": "code",
   "execution_count": 58,
   "metadata": {},
   "outputs": [
    {
     "name": "stdout",
     "output_type": "stream",
     "text": [
      "LdS dist of <e> and <ä> is  4.1596847\n",
      "Regular dist of <e> and <ä> is  3.8709877\n",
      "LdS dist of <d> and <t> is  6.4310966\n",
      "Regular dist of <d> and <t> is  5.421016\n",
      "LdS dist of <v> and <w> is  6.069377\n",
      "Regular dist of <d> and <t> is  4.1154523\n"
     ]
    }
   ],
   "source": [
    "# e has index 33 and ɛ index 3, lets measure distance\n",
    "print(\"LdS dist of <e> and <ä> is \", np.linalg.norm(lds_feat[33] - lds_feat[3]))\n",
    "print(\"Regular dist of <e> and <ä> is \", np.linalg.norm(reg_feat[33] - reg_feat[3]))\n",
    "# d has index 17 and t index 38, lets measure distance\n",
    "print(\"LdS dist of <d> and <t> is \", np.linalg.norm(lds_feat[17] - lds_feat[38]))\n",
    "print(\"Regular dist of <d> and <t> is \", np.linalg.norm(reg_feat[17] - reg_feat[38]))\n",
    "\n",
    "# v has index 9 and f index 21, lets measure distance\n",
    "print(\"LdS dist of <v> and <w> is \", np.linalg.norm(lds_feat[9] - lds_feat[21]))\n",
    "print(\"Regular dist of <d> and <t> is \", np.linalg.norm(reg_feat[9] - reg_feat[21]))"
   ]
  },
  {
   "cell_type": "code",
   "execution_count": 60,
   "metadata": {},
   "outputs": [],
   "source": [
    "# Try to work with the PCA/t-SNE values:\n",
    "p = '/Users/jannisborn/Desktop/LDS_Data/TrainedModels/CELEX/lds_run_2/evaluation/PCA_writing_module_phonetic_125embedding_vectors.npz'\n",
    "lds_pca = np.load(p)\n",
    "p = '/Users/jannisborn/Desktop/LDS_Data/TrainedModels/CELEX/lds_run_2/evaluation/tSNE_writing_module_phonetic_embedding-vec_epoch125_perp=10_step=5000_lr=10_ang=0.5_init=random_pca=None.npy'\n",
    "lds_tsne = np.load(p)\n",
    "p = '/Users/jannisborn/Desktop/LDS_Data/TrainedModels/CELEX/normal_run_1/evaluation/PCA\\ writing\\ module\\ phonetic_125embedding\\ vectors.npz'\n",
    "reg_pca = np.load(p.replace('\\\\', ''))\n",
    "p = '/Users/jannisborn/Desktop/LDS_Data/TrainedModels/CELEX/normal_run_1/evaluation/tSNE_writing_module_phonetic_embedding-vec_epoch125_perp=10_step=5000_lr=10_ang=0.5_init=random_pca=None.npy'\n",
    "reg_tsne = np.load(p)\n"
   ]
  },
  {
   "cell_type": "code",
   "execution_count": 61,
   "metadata": {},
   "outputs": [
    {
     "name": "stdout",
     "output_type": "stream",
     "text": [
      "LdS dist of <e> and <ä> is  4.2436085\n",
      "Regular dist of <e> and <ä> is  2.4063733\n",
      "LdS dist of <d> and <t> is  0.77079356\n",
      "Regular dist of <d> and <t> is  1.6241285\n",
      "LdS dist of <v> and <w> is  5.1053314\n",
      "Regular dist of <d> and <t> is  5.236385\n"
     ]
    }
   ],
   "source": [
    "# PCA Results\n",
    "# ä has index 6 and e index 23, lets measure distance\n",
    "print(\"LdS dist of <e> and <ä> is \", np.linalg.norm(lds_pca['pcs'][6] - lds_pca['pcs'][23]))\n",
    "print(\"Regular dist of <e> and <ä> is \", np.linalg.norm(reg_pca['pcs'][6] - reg_pca['pcs'][23]))\n",
    "# d has index 13 and t index 26, lets measure distance\n",
    "print(\"LdS dist of <d> and <t> is \", np.linalg.norm(lds_pca['pcs'][13] - lds_pca['pcs'][26]))\n",
    "print(\"Regular dist of <d> and <t> is \", np.linalg.norm(reg_pca['pcs'][13] - reg_pca['pcs'][26]))\n",
    "\n",
    "# v has index 7 and w index 4, lets measure distance\n",
    "print(\"LdS dist of <v> and <w> is \", np.linalg.norm(lds_pca['pcs'][7] - lds_pca['pcs'][4]))\n",
    "print(\"Regular dist of <d> and <t> is \", np.linalg.norm(reg_pca['pcs'][7] - reg_pca['pcs'][4]))"
   ]
  },
  {
   "cell_type": "code",
   "execution_count": 62,
   "metadata": {},
   "outputs": [
    {
     "name": "stdout",
     "output_type": "stream",
     "text": [
      "LdS dist of <e> and <ä> is  5.724769\n",
      "Regular dist of <e> and <ä> is  5.1675196\n",
      "LdS dist of <d> and <t> is  6.3367105\n",
      "Regular dist of <d> and <t> is  5.5335464\n",
      "LdS dist of <v> and <w> is  15.260696\n",
      "Regular dist of <d> and <t> is  15.981631\n"
     ]
    }
   ],
   "source": [
    "# tSNE results\n",
    "# ä has index 6 and e index 23, lets measure distance\n",
    "print(\"LdS dist of <e> and <ä> is \", np.linalg.norm(lds_tsne[6] - lds_tsne[23]))\n",
    "print(\"Regular dist of <e> and <ä> is \", np.linalg.norm(reg_tsne[6] - reg_tsne[23]))\n",
    "# d has index 13 and t index 26, lets measure distance\n",
    "print(\"LdS dist of <d> and <t> is \", np.linalg.norm(lds_tsne[13] - lds_tsne[26]))\n",
    "print(\"Regular dist of <d> and <t> is \", np.linalg.norm(reg_tsne[13] - reg_tsne[26]))\n",
    "\n",
    "# v has index 7 and w index 4, lets measure distance\n",
    "print(\"LdS dist of <v> and <w> is \", np.linalg.norm(lds_tsne[7] - lds_tsne[4]))\n",
    "print(\"Regular dist of <d> and <t> is \", np.linalg.norm(reg_tsne[7] - reg_tsne[4]))"
   ]
  },
  {
   "cell_type": "code",
   "execution_count": null,
   "metadata": {},
   "outputs": [],
   "source": []
  },
  {
   "cell_type": "code",
   "execution_count": null,
   "metadata": {},
   "outputs": [],
   "source": [
    "# normal, write, enc_embedding: similar vowels cluster: u and U (put, soon), e and E\n",
    "# normal, write, dec_embedding: vowels cluster! and letters with plosive sounds cluster (pbtd)\n",
    "# normal, read, enc_embedding: not so strong results\n",
    "# normal, read, dec_embedding: not so strong results\n",
    "\n",
    "# LDS after 250 epochs\n",
    "# lds, write, enc_embedding: maybe cluster a bit less..\n",
    "# lds, write, dec_embedding: vowels still cluster ...\n",
    "\n",
    "# -> SHOW LdS PCA embedding plots!\n"
   ]
  },
  {
   "cell_type": "code",
   "execution_count": 61,
   "metadata": {},
   "outputs": [],
   "source": [
    "   \n",
    "def plot_tsne(perplexity=10, steps=5000, lr=10, init='random', angle=0.5, mode='input', pca=None):\n",
    "    \"\"\"\n",
    "    t-SNE dimensionality reduction of the bLSTM's weight vectors.\n",
    "\n",
    "    Parameters:\n",
    "    ------------\n",
    "    PERPLEXITY \t{int}, tunable hyperparameter, from [5,50] says author. Higher -> More attention to global aspects of data. \n",
    "                    More samples -> Higher perplexity, perplexity should always < num_samples (default=30)\n",
    "    STEPS \t\t{int}, tunable hyperparameter, amount of iterations, (default=100)\n",
    "    LR \t\t\t{int}, tunable hyperparameter. If too high -> data is circular and equidistant(!) in embedded space. \n",
    "                    If too low -> points compressed in clouds\n",
    "    INIT \t\t{str}, choose from {'random', 'pca'}, the initialization of the embedding space (default=random)\n",
    "    ANGLE \t\t{float}, from [0.0, 1.0], trade-off between accuracy (0.0) and speed (1.0) - default=0.5\n",
    "    MODE \t\t{str} choose from {'input','output'} depending on whether the input or output embedding vectors should be plotted\n",
    "    PCA \t\t{None,int} None per default, if integer is given, data is preprocessed with principal component analysis and \n",
    "                    first PCA PCs are kept.\t\t\n",
    "\n",
    "    About t-SNE:\n",
    "        1)\t\tRepeated runs with the same data and hyperparameters give different results\n",
    "        2)\t\tCluster sizes usually do not mean anything\n",
    "        3) \t\tDistances between clusters may not mean anything\n",
    "\n",
    "    \"\"\"\n",
    "\n",
    "    from sklearn.manifold import TSNE \n",
    "    \n",
    "    \n",
    "    phon_dict = {'t': 1, 'k': 2, 'I': 3, 'j': 4, 'g': 5, 'e': 6, 's': 7, '@': 8, 'E': 9, '#': 10, '|': 11, 'i': 12, 'Y': 13, 'l': 14, 'n': 15, 'f': 16, ':': 17, ' ': 18, 'U': 19, 'd': 20, 'u': 21, 'h': 22, 'S': 23, 'r': 24, 'v': 25, 'y': 26, 'o': 27, '/': 28, 'N': 29, 'p': 30, 'a': 31, 'x': 32, 'O': 33, 'z': 34, '+': 35, 'm': 36, 'b': 37, '<GO>': 38, '<PAD>': 39}\n",
    "    word_dict = {'c': 1, 't': 2, 'k': 3, 'j': 4, 'g': 5, 'e': 6, 's': 7, 'i': 8, 'l': 9, 'n': 10, 'f': 11, 'q': 12, ' ': 13, 'd': 14, 'u': 15, 'w': 16, 'h': 17, 'r': 18, 'v': 19, 'y': 20, 'o': 21, 'p': 22, 'a': 23, 'x': 24, 'z': 25, 'm': 26, 'b': 27, '<GO>': 28, '<PAD>': 29}\n",
    "\n",
    "    word_rev = dict(zip(word_dict.values(),word_dict.keys()))\n",
    "    phon_rev = dict(zip(phon_dict.values(), phon_dict.keys()))\n",
    "    \n",
    "    path = '/Users/jannisborn/Dropbox/GitHub/LSTM/Models/childlex/'\n",
    "\n",
    "    ep = 499\n",
    "    \n",
    "    \n",
    "    #var = 'writing/encoding_write/enc_embedding'\n",
    "    var = 'writing/decoding_write/dec_embedding'\n",
    "    #var = 'reading/encoding_read/enc_embedding'\n",
    "    #var = 'reading/decoding_read/dec_embedding'\n",
    "    \n",
    "    dic = word_rev\n",
    "    #dic = phon_rev\n",
    "    \n",
    "    ling = 'orthographic'\n",
    "    #ling = 'phonetic'\n",
    "    \n",
    "    model = 'write'\n",
    "    #model = 'read'\n",
    "    \n",
    "    ide =  'normal_run_13/'\n",
    "    #ide =  'lds_run_12/'\n",
    "\n",
    "    with tf.Session() as sess:\n",
    "\n",
    "        saver = tf.train.import_meta_graph(path+ide+'my_test_model-'+str(ep)+'.meta')\n",
    "        saver.restore(sess,tf.train.latest_checkpoint(path+ide+'./'))\n",
    "\n",
    "        variables_names = [v.name for v in tf.trainable_variables()]\n",
    "        values = sess.run(variables_names)\n",
    "        \n",
    "        for k, v in zip(variables_names, values):\n",
    "            if var in k:\n",
    "            #print(\"Variable: \", k)\n",
    "            #print(\"Shape: \", v.shape)\n",
    "            #print(v)\n",
    "\n",
    "               weight_vectors = v\n",
    "\n",
    "\n",
    "        if perplexity >= weight_vectors.shape[0]:\n",
    "            raise ValueError(\"Please make sure the perplexity argument is smaller than the number of data points.\")\n",
    "        \n",
    "\n",
    "\n",
    "        if pca is not None:\n",
    "            # Preprocess via PCA\n",
    "            weight_vectors = plot_pca(n_comp=pca, mode=mode, plot=False)\n",
    "\n",
    "        t = time.time()\n",
    "        tsne = TSNE(n_components=2, verbose=1, perplexity=perplexity, n_iter=steps, learning_rate=lr, init=init, angle=angle)\n",
    "        tsne_results = tsne.fit_transform(weight_vectors)\n",
    "        print('t-SNE done! Time elapsed: {} seconds'.format(time.time()-t))\n",
    "\n",
    "\n",
    "        fig = plt.figure(figsize = (8,8))\n",
    "        ax = fig.add_subplot(1,1,1) \n",
    "        ax.set_xlabel('x-tsne', fontsize = 15)\n",
    "        ax.set_ylabel('y-tsne', fontsize = 15)\n",
    "        ax.set_title('tSNE '+ling+' vectors', fontsize = 20)\n",
    "\n",
    "        ax.spines['right'].set_visible(False)\n",
    "        ax.spines['top'].set_visible(False)\n",
    "\n",
    "        ax.scatter(tsne_results[:,0], tsne_results[:,1],s=2)\n",
    "        print(tsne_results.shape)\n",
    "        for k in range(1,len(tsne_results)):\n",
    "            # in output dict 0 is not used as key\n",
    "            # will be obsolete after proper retraining\n",
    "                ax.annotate(dic[k],(tsne_results[k,0], tsne_results[k,1]),size=16)  \n",
    "\n",
    "        filename = 'childlex/'+ide+\"t_SNE_\"+model+'_'+ling+'_perp='+str(perplexity)+'step='+str(steps)+'lr='+str(lr)+'ang='+str(angle)\n",
    "\n",
    "        plt.savefig(filename + '.pdf')\n",
    "        np.save(filename, tsne_results)\n",
    "\n"
   ]
  },
  {
   "cell_type": "code",
   "execution_count": 62,
   "metadata": {},
   "outputs": [
    {
     "name": "stdout",
     "output_type": "stream",
     "text": [
      "INFO:tensorflow:Restoring parameters from /Users/jannisborn/Dropbox/GitHub/LSTM/Models/childlex/normal_run_13/./my_test_model-499\n",
      "[t-SNE] Computing 29 nearest neighbors...\n",
      "[t-SNE] Indexed 30 samples in 0.000s...\n",
      "[t-SNE] Computed neighbors for 30 samples in 0.001s...\n",
      "[t-SNE] Computed conditional probabilities for sample 30 / 30\n",
      "[t-SNE] Mean sigma: 3.119366\n",
      "[t-SNE] KL divergence after 250 iterations with early exaggeration: 105.585945\n",
      "[t-SNE] Error after 2250 iterations: 0.806195\n",
      "t-SNE done! Time elapsed: 0.6988999843597412 seconds\n",
      "(30, 2)\n"
     ]
    },
    {
     "data": {
      "image/png": "[encoded data removed]",
      "text/plain": [
       "<Figure size 576x576 with 1 Axes>"
      ]
     },
     "metadata": {},
     "output_type": "display_data"
    }
   ],
   "source": [
    "plot_tsne()"
   ]
  },
  {
   "cell_type": "code",
   "execution_count": 63,
   "metadata": {},
   "outputs": [
    {
     "name": "stdout",
     "output_type": "stream",
     "text": [
      "INFO:tensorflow:Restoring parameters from /Users/jannisborn/Dropbox/GitHub/LSTM/Models/childlex/normal_run_13/./my_test_model-499\n",
      "[t-SNE] Computing 16 nearest neighbors...\n",
      "[t-SNE] Indexed 30 samples in 0.000s...\n",
      "[t-SNE] Computed neighbors for 30 samples in 0.001s...\n",
      "[t-SNE] Computed conditional probabilities for sample 30 / 30\n",
      "[t-SNE] Mean sigma: 2.879913\n",
      "[t-SNE] KL divergence after 250 iterations with early exaggeration: 47.308167\n",
      "[t-SNE] Error after 1050 iterations: 1.111119\n",
      "t-SNE done! Time elapsed: 0.34786009788513184 seconds\n",
      "(30, 2)\n"
     ]
    },
    {
     "data": {
      "image/png": "[encoded data removed]",
      "text/plain": [
       "<Figure size 576x576 with 1 Axes>"
      ]
     },
     "metadata": {},
     "output_type": "display_data"
    }
   ],
   "source": [
    "plot_tsne(perplexity=5,lr=1)"
   ]
  },
  {
   "cell_type": "markdown",
   "metadata": {},
   "source": [
    "### READ IN MODEL AND DO A PREDICTION\n"
   ]
  },
  {
   "cell_type": "code",
   "execution_count": 2,
   "metadata": {},
   "outputs": [
    {
     "ename": "OSError",
     "evalue": "File /Users/jannisborn/Dropbox/GitHub/LSTM/Models/childlex/normal_run_13/my_test_model-499.meta does not exist.",
     "output_type": "error",
     "traceback": [
      "\u001b[0;31m---------------------------------------------------------------------------\u001b[0m",
      "\u001b[0;31mOSError\u001b[0m                                   Traceback (most recent call last)",
      "\u001b[0;32m<ipython-input-2-673b6813b9a0>\u001b[0m in \u001b[0;36m<module>\u001b[0;34m()\u001b[0m\n\u001b[1;32m      7\u001b[0m \u001b[0;32mwith\u001b[0m \u001b[0mtf\u001b[0m\u001b[0;34m.\u001b[0m\u001b[0mSession\u001b[0m\u001b[0;34m(\u001b[0m\u001b[0;34m)\u001b[0m \u001b[0;32mas\u001b[0m \u001b[0msess\u001b[0m\u001b[0;34m:\u001b[0m\u001b[0;34m\u001b[0m\u001b[0m\n\u001b[1;32m      8\u001b[0m \u001b[0;34m\u001b[0m\u001b[0m\n\u001b[0;32m----> 9\u001b[0;31m     \u001b[0msaver\u001b[0m \u001b[0;34m=\u001b[0m \u001b[0mtf\u001b[0m\u001b[0;34m.\u001b[0m\u001b[0mtrain\u001b[0m\u001b[0;34m.\u001b[0m\u001b[0mimport_meta_graph\u001b[0m\u001b[0;34m(\u001b[0m\u001b[0mpath\u001b[0m\u001b[0;34m+\u001b[0m\u001b[0mide\u001b[0m\u001b[0;34m+\u001b[0m\u001b[0;34m'my_test_model-'\u001b[0m\u001b[0;34m+\u001b[0m\u001b[0mstr\u001b[0m\u001b[0;34m(\u001b[0m\u001b[0mep\u001b[0m\u001b[0;34m)\u001b[0m\u001b[0;34m+\u001b[0m\u001b[0;34m'.meta'\u001b[0m\u001b[0;34m)\u001b[0m\u001b[0;34m\u001b[0m\u001b[0m\n\u001b[0m\u001b[1;32m     10\u001b[0m     \u001b[0msaver\u001b[0m\u001b[0;34m.\u001b[0m\u001b[0mrestore\u001b[0m\u001b[0;34m(\u001b[0m\u001b[0msess\u001b[0m\u001b[0;34m,\u001b[0m\u001b[0mtf\u001b[0m\u001b[0;34m.\u001b[0m\u001b[0mtrain\u001b[0m\u001b[0;34m.\u001b[0m\u001b[0mlatest_checkpoint\u001b[0m\u001b[0;34m(\u001b[0m\u001b[0mpath\u001b[0m\u001b[0;34m+\u001b[0m\u001b[0mide\u001b[0m\u001b[0;34m+\u001b[0m\u001b[0;34m'./'\u001b[0m\u001b[0;34m)\u001b[0m\u001b[0;34m)\u001b[0m\u001b[0;34m\u001b[0m\u001b[0m\n",
      "\u001b[0;32m~/anaconda3/envs/tf/lib/python3.6/site-packages/tensorflow/python/training/saver.py\u001b[0m in \u001b[0;36mimport_meta_graph\u001b[0;34m(meta_graph_or_file, clear_devices, import_scope, **kwargs)\u001b[0m\n\u001b[1;32m   1900\u001b[0m                        \"execution is enabled.\")\n\u001b[1;32m   1901\u001b[0m   \u001b[0;32mif\u001b[0m \u001b[0;32mnot\u001b[0m \u001b[0misinstance\u001b[0m\u001b[0;34m(\u001b[0m\u001b[0mmeta_graph_or_file\u001b[0m\u001b[0;34m,\u001b[0m \u001b[0mmeta_graph_pb2\u001b[0m\u001b[0;34m.\u001b[0m\u001b[0mMetaGraphDef\u001b[0m\u001b[0;34m)\u001b[0m\u001b[0;34m:\u001b[0m\u001b[0;34m\u001b[0m\u001b[0m\n\u001b[0;32m-> 1902\u001b[0;31m     \u001b[0mmeta_graph_def\u001b[0m \u001b[0;34m=\u001b[0m \u001b[0mmeta_graph\u001b[0m\u001b[0;34m.\u001b[0m\u001b[0mread_meta_graph_file\u001b[0m\u001b[0;34m(\u001b[0m\u001b[0mmeta_graph_or_file\u001b[0m\u001b[0;34m)\u001b[0m\u001b[0;34m\u001b[0m\u001b[0m\n\u001b[0m\u001b[1;32m   1903\u001b[0m   \u001b[0;32melse\u001b[0m\u001b[0;34m:\u001b[0m\u001b[0;34m\u001b[0m\u001b[0m\n\u001b[1;32m   1904\u001b[0m     \u001b[0mmeta_graph_def\u001b[0m \u001b[0;34m=\u001b[0m \u001b[0mmeta_graph_or_file\u001b[0m\u001b[0;34m\u001b[0m\u001b[0m\n",
      "\u001b[0;32m~/anaconda3/envs/tf/lib/python3.6/site-packages/tensorflow/python/framework/meta_graph.py\u001b[0m in \u001b[0;36mread_meta_graph_file\u001b[0;34m(filename)\u001b[0m\n\u001b[1;32m    626\u001b[0m   \u001b[0mmeta_graph_def\u001b[0m \u001b[0;34m=\u001b[0m \u001b[0mmeta_graph_pb2\u001b[0m\u001b[0;34m.\u001b[0m\u001b[0mMetaGraphDef\u001b[0m\u001b[0;34m(\u001b[0m\u001b[0;34m)\u001b[0m\u001b[0;34m\u001b[0m\u001b[0m\n\u001b[1;32m    627\u001b[0m   \u001b[0;32mif\u001b[0m \u001b[0;32mnot\u001b[0m \u001b[0mfile_io\u001b[0m\u001b[0;34m.\u001b[0m\u001b[0mfile_exists\u001b[0m\u001b[0;34m(\u001b[0m\u001b[0mfilename\u001b[0m\u001b[0;34m)\u001b[0m\u001b[0;34m:\u001b[0m\u001b[0;34m\u001b[0m\u001b[0m\n\u001b[0;32m--> 628\u001b[0;31m     \u001b[0;32mraise\u001b[0m \u001b[0mIOError\u001b[0m\u001b[0;34m(\u001b[0m\u001b[0;34m\"File %s does not exist.\"\u001b[0m \u001b[0;34m%\u001b[0m \u001b[0mfilename\u001b[0m\u001b[0;34m)\u001b[0m\u001b[0;34m\u001b[0m\u001b[0m\n\u001b[0m\u001b[1;32m    629\u001b[0m   \u001b[0;31m# First try to read it as a binary file.\u001b[0m\u001b[0;34m\u001b[0m\u001b[0;34m\u001b[0m\u001b[0m\n\u001b[1;32m    630\u001b[0m   \u001b[0mfile_content\u001b[0m \u001b[0;34m=\u001b[0m \u001b[0mfile_io\u001b[0m\u001b[0;34m.\u001b[0m\u001b[0mFileIO\u001b[0m\u001b[0;34m(\u001b[0m\u001b[0mfilename\u001b[0m\u001b[0;34m,\u001b[0m \u001b[0;34m\"rb\"\u001b[0m\u001b[0;34m)\u001b[0m\u001b[0;34m.\u001b[0m\u001b[0mread\u001b[0m\u001b[0;34m(\u001b[0m\u001b[0;34m)\u001b[0m\u001b[0;34m\u001b[0m\u001b[0m\n",
      "\u001b[0;31mOSError\u001b[0m: File /Users/jannisborn/Dropbox/GitHub/LSTM/Models/childlex/normal_run_13/my_test_model-499.meta does not exist."
     ]
    }
   ],
   "source": [
    "path = '/Users/jannisborn/Dropbox/GitHub/LSTM/Models/childlex/'\n",
    "\n",
    "ep = 499\n",
    "\n",
    "ide =  'normal_run_13/'\n",
    "\n",
    "with tf.Session() as sess:\n",
    "\n",
    "    saver = tf.train.import_meta_graph(path+ide+'my_test_model-'+str(ep)+'.meta')\n",
    "    saver.restore(sess,tf.train.latest_checkpoint(path+ide+'./'))\n"
   ]
  },
  {
   "cell_type": "code",
   "execution_count": 7,
   "metadata": {},
   "outputs": [],
   "source": [
    "import numpy as np\n",
    "import matplotlib.pyplot as plt\n",
    "p = '/Users/jannisborn/Desktop/LDS_Data/TrainedModels/celex_all/normal_run_0/metrics.npz'\n",
    "\n",
    "d = np.load(p)\n"
   ]
  },
  {
   "cell_type": "code",
   "execution_count": 22,
   "metadata": {},
   "outputs": [
    {
     "data": {
      "image/png": "[encoded data removed]",
      "text/plain": [
       "<matplotlib.figure.Figure at 0x115bc34e0>"
      ]
     },
     "metadata": {},
     "output_type": "display_data"
    }
   ],
   "source": []
  },
  {
   "cell_type": "code",
   "execution_count": 28,
   "metadata": {},
   "outputs": [
    {
     "name": "stdout",
     "output_type": "stream",
     "text": [
      "0\n"
     ]
    }
   ],
   "source": [
    "root = os.path.expanduser(\"~\")+'/Desktop/LDS_Data/'\n",
    "path = root + 'TrainedModels/childlex/normal_run_0'\n",
    "epochs = 249\n",
    "task = 'write'\n",
    "mode = 'input'\n",
    "\n",
    "with tf.Session() as sess:\n",
    "\n",
    "\t\t\t# Restore model\n",
    "\t\t\tsaver = tf.train.import_meta_graph(path+'/my_test_model-'+str(epochs)+'.meta')\n",
    "\t\t\tsaver.restore(sess,tf.train.latest_checkpoint(path+'/./'))\n",
    "\t\t\tgraph = tf.get_default_graph()\n",
    "\n",
    "\t\t\tvariable_path = self.model_name + '/encoding_' + self.task + '/enc_embedding:0'\n",
    "\n",
    "\n",
    "\t\t\t# Load data and perform PCA\n",
    "\t\t\tweight_vectors = sess.run(graph.get_tensor_by_name(variable_path))"
   ]
  },
  {
   "cell_type": "code",
   "execution_count": null,
   "metadata": {},
   "outputs": [],
   "source": []
  }
 ],
 "metadata": {
  "kernelspec": {
   "display_name": "Python 3",
   "language": "python",
   "name": "python3"
  },
  "language_info": {
   "codemirror_mode": {
    "name": "ipython",
    "version": 3
   },
   "file_extension": ".py",
   "mimetype": "text/x-python",
   "name": "python",
   "nbconvert_exporter": "python",
   "pygments_lexer": "ipython3",
   "version": "3.6.4"
  }
 },
 "nbformat": 4,
 "nbformat_minor": 2
}
