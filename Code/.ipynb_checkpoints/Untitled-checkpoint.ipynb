{
 "cells": [
  {
   "cell_type": "code",
   "execution_count": 19,
   "metadata": {},
   "outputs": [
    {
     "name": "stdout",
     "output_type": "stream",
     "text": [
      "30\n"
     ]
    },
    {
     "data": {
      "text/plain": [
       "'if shift:\\n    if chars[key].upper() == chars[key]:\\n        return upper[key]\\nelse:\\n    \\n    return chars[key]\\n        \\n        \\n'"
      ]
     },
     "execution_count": 19,
     "metadata": {},
     "output_type": "execute_result"
    }
   ],
   "source": [
    "\n",
    "def make_dict():\n",
    "    chars = dict()\n",
    "    chars['10000'] = 'a'\n",
    "    chars['01000'] = 'e'\n",
    "    chars['00100'] = 'i'\n",
    "    chars['00010'] = 'o'\n",
    "    chars['00001'] = 'u'\n",
    "    chars['11000'] = 't'\n",
    "    chars['10100'] = 'n'\n",
    "    chars['10010'] = 's'\n",
    "    chars['10001'] = 'h'\n",
    "    chars['11100'] = 'r'\n",
    "    chars['01100'] = 'd'\n",
    "    chars['01110'] = 'l'\n",
    "    chars['00111'] = 'c'\n",
    "    chars['11110'] = 'm'\n",
    "    chars['01111'] = 'w'\n",
    "    chars['00110'] = 'f'\n",
    "    chars['10011'] = 'g'\n",
    "    chars['10111'] = 'y'\n",
    "    chars['01010'] = 'p'\n",
    "    chars['11011'] = 'b'\n",
    "    chars['00011'] = 'v'\n",
    "    chars['11001'] = 'k'\n",
    "    chars['00101'] = 'j'\n",
    "    chars['01101'] = 'x'\n",
    "    chars['10101'] = 'z' \n",
    "    chars['11101'] = 'q'\n",
    "    chars['11111'] = ' '\n",
    "    chars['10110'] = '.'\n",
    "    chars['01001'] = ','\n",
    "    chars['01011'] = '!'\n",
    "    # chars['11010'] = CAPS LOCK\n",
    "\n",
    "    upper = dict()\n",
    "    upper['10110'] = ':'\n",
    "    upper['01001'] = ';'\n",
    "    upper['01011'] = '?'\n",
    "    \n",
    "    return chars, upper\n",
    "\n",
    "\n",
    "\n",
    "def translate(self,key):\n",
    "    \n",
    "    if key == '11010': # CAPS LOCK PRESSED?\n",
    "        \n",
    "        self.caps = True\n",
    "        \n",
    "    else:\n",
    "         char = chars[key] if self.caps else \n",
    "            \n",
    "    \n",
    "        \n",
    "        \n",
    "a = typer()\n",
    "a.CAPSLOCK() \n",
    "\n",
    "print(len(chars))\n",
    "shift = False\n",
    "\n",
    "shift=True\n",
    "\n",
    "\"\"\"if shift:\n",
    "    if chars[key].upper() == chars[key]:\n",
    "        return upper[key]\n",
    "else:\n",
    "    \n",
    "    return chars[key]\n",
    "        \n",
    "        \n",
    "\"\"\""
   ]
  },
  {
   "cell_type": "code",
   "execution_count": 15,
   "metadata": {},
   "outputs": [
    {
     "name": "stdout",
     "output_type": "stream",
     "text": [
      "68.9 ns ± 1.68 ns per loop (mean ± std. dev. of 7 runs, 10000000 loops each)\n"
     ]
    }
   ],
   "source": [
    "%%timeit\n",
    "'a'.upper()"
   ]
  },
  {
   "cell_type": "code",
   "execution_count": null,
   "metadata": {},
   "outputs": [],
   "source": []
  }
 ],
 "metadata": {
  "kernelspec": {
   "display_name": "Python 3",
   "language": "python",
   "name": "python3"
  },
  "language_info": {
   "codemirror_mode": {
    "name": "ipython",
    "version": 3
   },
   "file_extension": ".py",
   "mimetype": "text/x-python",
   "name": "python",
   "nbconvert_exporter": "python",
   "pygments_lexer": "ipython3",
   "version": "3.6.4"
  }
 },
 "nbformat": 4,
 "nbformat_minor": 2
}
