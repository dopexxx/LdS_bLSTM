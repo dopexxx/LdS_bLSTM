{
 "cells": [
  {
   "cell_type": "code",
   "execution_count": 5,
   "metadata": {},
   "outputs": [
    {
     "name": "stdout",
     "output_type": "stream",
     "text": [
      "Populating the interactive namespace from numpy and matplotlib\n"
     ]
    }
   ],
   "source": [
    "import sys,os\n",
    "import numpy as np\n",
    "#import matplotlib\n",
    "#matplotlib.use('TkAgg')\n",
    "import matplotlib.pyplot as plt\n",
    "%pylab qt\n"
   ]
  },
  {
   "cell_type": "code",
   "execution_count": 67,
   "metadata": {},
   "outputs": [],
   "source": [
    "normal_data_f = np.load('/Users/jannisborn/Desktop/LDS_Data/Models/childlex/normal_run_0/metrics.npz')\n",
    "lds_data_f    = np.load('/Users/jannisborn/Desktop/LDS_Data/Models/childlex/lds_run_0/metrics.npz')\n",
    "\n",
    "trainPerf_n = normal_data_f['trainPerf']\n",
    "testPerf_n = normal_data_f['testPerf']\n",
    "lds_ratio_n = normal_data_f['lds_ratio']\n",
    "corr_ratio_n = normal_data_f['corr_ratio']\n",
    "lds_loss_n = normal_data_f['lds_loss']\n",
    "reg_loss_n = normal_data_f['reg_loss']\n",
    "\n",
    "\n",
    "trainPerf_l = lds_data_f['trainPerf']\n",
    "testPerf_l = lds_data_f['testPerf']\n",
    "lds_ratio_l = lds_data_f['lds_ratio']\n",
    "corr_ratio_l = lds_data_f['corr_ratio']\n",
    "lds_loss_l = lds_data_f['lds_loss']\n",
    "reg_loss_l = lds_data_f['reg_loss']\n"
   ]
  },
  {
   "cell_type": "code",
   "execution_count": 68,
   "metadata": {},
   "outputs": [],
   "source": [
    "epochs_n = np.arange(500)\n",
    "epochs_l = np.arange(1000)\n",
    "\n",
    "plt.plot(epochs_n,lds_ratio_n,'-b',label='lds_n')\n",
    "plt.plot(epochs_l,lds_ratio_l,'-c',label='lds_l')\n",
    "plt.plot(epochs_n, corr_ratio_n,'-r',label='corr_n')\n",
    "plt.plot(epochs_l,corr_ratio_l,'-m',label='corr_l')\n",
    "plt.legend(loc=4)\n",
    "plt.show()"
   ]
  },
  {
   "cell_type": "code",
   "execution_count": 70,
   "metadata": {},
   "outputs": [],
   "source": [
    "plt.plot(epochs_l,lds_loss_l,'-b',label='lds_l')\n",
    "plt.plot(epochs_n,lds_loss_n,'-c',label='lds_n')\n",
    "plt.plot(epochs_l, reg_loss_l,'-r',label='reg_l')\n",
    "plt.plot(epochs_n,reg_loss_n,'-m',label='reg_n')\n",
    "plt.xlim([0, 770])\n",
    "plt.ylim([0, 0.35])\n",
    "\n",
    "# for lds network the loss  \n",
    "plt.legend(loc=4)\n",
    "plt.show()"
   ]
  },
  {
   "cell_type": "code",
   "execution_count": 78,
   "metadata": {},
   "outputs": [],
   "source": [
    "el = np.arange(101)\n",
    "en = np.arange(51)\n",
    "\n",
    "# Performance columns indices\n",
    "# 0 - write_token_acc\n",
    "# 1 - write_word_acc\n",
    "# 2 - write_old_acc\n",
    "# 3 - read_token_acc\n",
    "# 4 - read_word_acc\n",
    "# 5 - read_old_acc\n",
    "\n",
    "\n",
    "\n",
    "\n",
    "plt.plot(el,testPerf_l[:,3],'--b',label='LdS - Training - Reading - Token')\n",
    "plt.plot(en,testPerf_n[:,3],'--c',label='Regular - Training - Reading - Token')\n",
    "#plt.ylim([0.2, 0.5])\n",
    "\n",
    "\n",
    "\n",
    "# for lds network the loss  \n",
    "plt.legend(loc=4)\n",
    "plt.show()"
   ]
  },
  {
   "cell_type": "code",
   "execution_count": 75,
   "metadata": {},
   "outputs": [
    {
     "data": {
      "text/plain": [
       "(51, 6)"
      ]
     },
     "execution_count": 75,
     "metadata": {},
     "output_type": "execute_result"
    }
   ],
   "source": [
    "trainPerf_n.shape"
   ]
  },
  {
   "cell_type": "code",
   "execution_count": null,
   "metadata": {},
   "outputs": [],
   "source": []
  }
 ],
 "metadata": {
  "kernelspec": {
   "display_name": "Python 3",
   "language": "python",
   "name": "python3"
  },
  "language_info": {
   "codemirror_mode": {
    "name": "ipython",
    "version": 3
   },
   "file_extension": ".py",
   "mimetype": "text/x-python",
   "name": "python",
   "nbconvert_exporter": "python",
   "pygments_lexer": "ipython3",
   "version": "3.6.4"
  }
 },
 "nbformat": 4,
 "nbformat_minor": 2
}
